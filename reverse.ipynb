{
 "cells": [
  {
   "cell_type": "code",
   "execution_count": 12,
   "metadata": {},
   "outputs": [],
   "source": [
    "import pandas as pd\n",
    "import numpy as np"
   ]
  },
  {
   "cell_type": "code",
   "execution_count": 18,
   "metadata": {},
   "outputs": [
    {
     "data": {
      "text/html": [
       "<div>\n",
       "<style scoped>\n",
       "    .dataframe tbody tr th:only-of-type {\n",
       "        vertical-align: middle;\n",
       "    }\n",
       "\n",
       "    .dataframe tbody tr th {\n",
       "        vertical-align: top;\n",
       "    }\n",
       "\n",
       "    .dataframe thead th {\n",
       "        text-align: right;\n",
       "    }\n",
       "</style>\n",
       "<table border=\"1\" class=\"dataframe\">\n",
       "  <thead>\n",
       "    <tr style=\"text-align: right;\">\n",
       "      <th></th>\n",
       "      <th>aminoacid</th>\n",
       "    </tr>\n",
       "    <tr>\n",
       "      <th>codon</th>\n",
       "      <th></th>\n",
       "    </tr>\n",
       "  </thead>\n",
       "  <tbody>\n",
       "    <tr>\n",
       "      <th>GCA</th>\n",
       "      <td>A</td>\n",
       "    </tr>\n",
       "    <tr>\n",
       "      <th>GCC</th>\n",
       "      <td>A</td>\n",
       "    </tr>\n",
       "    <tr>\n",
       "      <th>GCG</th>\n",
       "      <td>A</td>\n",
       "    </tr>\n",
       "    <tr>\n",
       "      <th>GCT</th>\n",
       "      <td>A</td>\n",
       "    </tr>\n",
       "    <tr>\n",
       "      <th>TGC</th>\n",
       "      <td>C</td>\n",
       "    </tr>\n",
       "  </tbody>\n",
       "</table>\n",
       "</div>"
      ],
      "text/plain": [
       "      aminoacid\n",
       "codon          \n",
       "GCA           A\n",
       "GCC           A\n",
       "GCG           A\n",
       "GCT           A\n",
       "TGC           C"
      ]
     },
     "execution_count": 18,
     "metadata": {},
     "output_type": "execute_result"
    }
   ],
   "source": [
    "codons = pd.read_csv(\"codon-table-grouped.csv\")\n",
    "codons = codons.set_index(\"codon\")\n",
    "codons.head()"
   ]
  },
  {
   "cell_type": "code",
   "execution_count": 19,
   "metadata": {},
   "outputs": [
    {
     "data": {
      "text/html": [
       "<div>\n",
       "<style scoped>\n",
       "    .dataframe tbody tr th:only-of-type {\n",
       "        vertical-align: middle;\n",
       "    }\n",
       "\n",
       "    .dataframe tbody tr th {\n",
       "        vertical-align: top;\n",
       "    }\n",
       "\n",
       "    .dataframe thead th {\n",
       "        text-align: right;\n",
       "    }\n",
       "</style>\n",
       "<table border=\"1\" class=\"dataframe\">\n",
       "  <thead>\n",
       "    <tr style=\"text-align: right;\">\n",
       "      <th></th>\n",
       "      <th>abspos</th>\n",
       "      <th>codonOrig</th>\n",
       "      <th>codonVaccine</th>\n",
       "    </tr>\n",
       "  </thead>\n",
       "  <tbody>\n",
       "    <tr>\n",
       "      <th>0</th>\n",
       "      <td>0</td>\n",
       "      <td>ATG</td>\n",
       "      <td>ATG</td>\n",
       "    </tr>\n",
       "    <tr>\n",
       "      <th>1</th>\n",
       "      <td>3</td>\n",
       "      <td>TTT</td>\n",
       "      <td>TTC</td>\n",
       "    </tr>\n",
       "    <tr>\n",
       "      <th>2</th>\n",
       "      <td>6</td>\n",
       "      <td>GTT</td>\n",
       "      <td>GTG</td>\n",
       "    </tr>\n",
       "    <tr>\n",
       "      <th>3</th>\n",
       "      <td>9</td>\n",
       "      <td>TTT</td>\n",
       "      <td>TTC</td>\n",
       "    </tr>\n",
       "    <tr>\n",
       "      <th>4</th>\n",
       "      <td>12</td>\n",
       "      <td>CTT</td>\n",
       "      <td>CTG</td>\n",
       "    </tr>\n",
       "  </tbody>\n",
       "</table>\n",
       "</div>"
      ],
      "text/plain": [
       "   abspos codonOrig codonVaccine\n",
       "0       0       ATG          ATG\n",
       "1       3       TTT          TTC\n",
       "2       6       GTT          GTG\n",
       "3       9       TTT          TTC\n",
       "4      12       CTT          CTG"
      ]
     },
     "execution_count": 19,
     "metadata": {},
     "output_type": "execute_result"
    }
   ],
   "source": [
    "virvac = pd.read_csv(\"side-by-side.csv\")\n",
    "virvac.head()"
   ]
  },
  {
   "cell_type": "code",
   "execution_count": 22,
   "metadata": {},
   "outputs": [
    {
     "data": {
      "text/plain": [
       "0.5306122448979592"
      ]
     },
     "execution_count": 22,
     "metadata": {},
     "output_type": "execute_result"
    }
   ],
   "source": [
    "\n",
    "def modify_bert(codon):\n",
    "    if codon[2] in \"GC\":\n",
    "        return codon \n",
    "    for newbase in \"GC\":\n",
    "        new_codon = codon[:2] + newbase\n",
    "        if codons.loc[new_codon][\"aminoacid\"] == codons.loc[codon][\"aminoacid\"]:\n",
    "            return new_codon\n",
    "    \n",
    "    return codon \n",
    "\n",
    "virvac[\"modified_bert\"] = virvac.codonOrig.apply(modify_bert)\n",
    "\n",
    "match_bert = np.mean(virvac[\"modified_bert\"] == virvac.codonVaccine)\n",
    "match_bert"
   ]
  },
  {
   "cell_type": "code",
   "execution_count": 24,
   "metadata": {},
   "outputs": [
    {
     "data": {
      "text/plain": [
       "0.6083202511773941"
      ]
     },
     "execution_count": 24,
     "metadata": {},
     "output_type": "execute_result"
    }
   ],
   "source": [
    "\n",
    "def modify_pkuhar(codon):\n",
    "    if codon[2] in \"GC\":\n",
    "        return codon \n",
    "    for newbase in \"CG\":\n",
    "        new_codon = codon[:2] + newbase\n",
    "        if codons.loc[new_codon][\"aminoacid\"] == codons.loc[codon][\"aminoacid\"]:\n",
    "            return new_codon\n",
    "    \n",
    "    return codon \n",
    "\n",
    "virvac[\"modified_bert\"] = virvac.codonOrig.apply(modify_pkuhar)\n",
    "\n",
    "match_bert = np.mean(virvac[\"modified_bert\"] == virvac.codonVaccine)\n",
    "match_bert"
   ]
  },
  {
   "cell_type": "code",
   "execution_count": null,
   "metadata": {},
   "outputs": [],
   "source": []
  }
 ],
 "metadata": {
  "kernelspec": {
   "display_name": "Python 3",
   "language": "python",
   "name": "python3"
  },
  "language_info": {
   "codemirror_mode": {
    "name": "ipython",
    "version": 3
   },
   "file_extension": ".py",
   "mimetype": "text/x-python",
   "name": "python",
   "nbconvert_exporter": "python",
   "pygments_lexer": "ipython3",
   "version": "3.7.6"
  }
 },
 "nbformat": 4,
 "nbformat_minor": 4
}
